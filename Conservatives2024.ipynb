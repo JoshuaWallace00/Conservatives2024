{
 "cells": [
  {
   "cell_type": "markdown",
   "id": "81b43f43-aeb6-424c-8792-fe2b75477e11",
   "metadata": {},
   "source": [
    "## How could the Conservatives win at the next General Election?\n",
    "### Data Gathering\n",
    "#### Import the 2024 Constituency level results"
   ]
  },
  {
   "cell_type": "code",
   "execution_count": 2,
   "id": "64f0247d-d831-49a6-bd12-910dc485d416",
   "metadata": {
    "tags": []
   },
   "outputs": [],
   "source": [
    "import pandas as pd\n",
    "data = pd.read_excel(\"/Users/joshwallace/Downloads/HoC-GE2024-results-by-constituency.xlsx\")"
   ]
  },
  {
   "cell_type": "code",
   "execution_count": 3,
   "id": "6889c49c-0817-4d56-87c9-657784185658",
   "metadata": {
    "tags": []
   },
   "outputs": [
    {
     "data": {
      "text/html": [
       "<div>\n",
       "<style scoped>\n",
       "    .dataframe tbody tr th:only-of-type {\n",
       "        vertical-align: middle;\n",
       "    }\n",
       "\n",
       "    .dataframe tbody tr th {\n",
       "        vertical-align: top;\n",
       "    }\n",
       "\n",
       "    .dataframe thead th {\n",
       "        text-align: right;\n",
       "    }\n",
       "</style>\n",
       "<table border=\"1\" class=\"dataframe\">\n",
       "  <thead>\n",
       "    <tr style=\"text-align: right;\">\n",
       "      <th></th>\n",
       "      <th>House of Commons General Election 2024 results by constituency</th>\n",
       "      <th>Unnamed: 1</th>\n",
       "      <th>Unnamed: 2</th>\n",
       "      <th>Unnamed: 3</th>\n",
       "      <th>Unnamed: 4</th>\n",
       "      <th>Unnamed: 5</th>\n",
       "      <th>Unnamed: 6</th>\n",
       "      <th>Unnamed: 7</th>\n",
       "      <th>Unnamed: 8</th>\n",
       "      <th>Unnamed: 9</th>\n",
       "      <th>...</th>\n",
       "      <th>Unnamed: 20</th>\n",
       "      <th>Unnamed: 21</th>\n",
       "      <th>Unnamed: 22</th>\n",
       "      <th>Unnamed: 23</th>\n",
       "      <th>Unnamed: 24</th>\n",
       "      <th>Unnamed: 25</th>\n",
       "      <th>Unnamed: 26</th>\n",
       "      <th>Unnamed: 27</th>\n",
       "      <th>Unnamed: 28</th>\n",
       "      <th>Unnamed: 29</th>\n",
       "    </tr>\n",
       "  </thead>\n",
       "  <tbody>\n",
       "    <tr>\n",
       "      <th>0</th>\n",
       "      <td>[Note 1] [Note 2]</td>\n",
       "      <td>NaN</td>\n",
       "      <td>NaN</td>\n",
       "      <td>NaN</td>\n",
       "      <td>NaN</td>\n",
       "      <td>NaN</td>\n",
       "      <td>NaN</td>\n",
       "      <td>NaN</td>\n",
       "      <td>NaN</td>\n",
       "      <td>NaN</td>\n",
       "      <td>...</td>\n",
       "      <td>NaN</td>\n",
       "      <td>NaN</td>\n",
       "      <td>NaN</td>\n",
       "      <td>NaN</td>\n",
       "      <td>NaN</td>\n",
       "      <td>NaN</td>\n",
       "      <td>NaN</td>\n",
       "      <td>NaN</td>\n",
       "      <td>NaN</td>\n",
       "      <td>NaN</td>\n",
       "    </tr>\n",
       "    <tr>\n",
       "      <th>1</th>\n",
       "      <td>ONS ID</td>\n",
       "      <td>ONS region ID</td>\n",
       "      <td>Constituency name</td>\n",
       "      <td>Region name</td>\n",
       "      <td>Country name</td>\n",
       "      <td>Constituency type</td>\n",
       "      <td>Member first name</td>\n",
       "      <td>Member surname</td>\n",
       "      <td>Member gender</td>\n",
       "      <td>Result</td>\n",
       "      <td>...</td>\n",
       "      <td>Green</td>\n",
       "      <td>SNP</td>\n",
       "      <td>PC</td>\n",
       "      <td>DUP</td>\n",
       "      <td>SF</td>\n",
       "      <td>SDLP</td>\n",
       "      <td>UUP</td>\n",
       "      <td>APNI</td>\n",
       "      <td>All other candidates</td>\n",
       "      <td>Of which other winner</td>\n",
       "    </tr>\n",
       "    <tr>\n",
       "      <th>2</th>\n",
       "      <td>W07000081</td>\n",
       "      <td>W92000004</td>\n",
       "      <td>Aberafan Maesteg</td>\n",
       "      <td>Wales</td>\n",
       "      <td>Wales</td>\n",
       "      <td>County</td>\n",
       "      <td>Stephen</td>\n",
       "      <td>Kinnock</td>\n",
       "      <td>Male</td>\n",
       "      <td>Lab hold</td>\n",
       "      <td>...</td>\n",
       "      <td>1094</td>\n",
       "      <td>0</td>\n",
       "      <td>4719</td>\n",
       "      <td>0</td>\n",
       "      <td>0</td>\n",
       "      <td>0</td>\n",
       "      <td>0</td>\n",
       "      <td>0</td>\n",
       "      <td>801</td>\n",
       "      <td>0</td>\n",
       "    </tr>\n",
       "    <tr>\n",
       "      <th>3</th>\n",
       "      <td>S14000060</td>\n",
       "      <td>S92000003</td>\n",
       "      <td>Aberdeen North</td>\n",
       "      <td>Scotland</td>\n",
       "      <td>Scotland</td>\n",
       "      <td>Burgh</td>\n",
       "      <td>Kirsty</td>\n",
       "      <td>Blackman</td>\n",
       "      <td>Female</td>\n",
       "      <td>SNP hold</td>\n",
       "      <td>...</td>\n",
       "      <td>1275</td>\n",
       "      <td>14533</td>\n",
       "      <td>0</td>\n",
       "      <td>0</td>\n",
       "      <td>0</td>\n",
       "      <td>0</td>\n",
       "      <td>0</td>\n",
       "      <td>0</td>\n",
       "      <td>1269</td>\n",
       "      <td>0</td>\n",
       "    </tr>\n",
       "    <tr>\n",
       "      <th>4</th>\n",
       "      <td>S14000061</td>\n",
       "      <td>S92000003</td>\n",
       "      <td>Aberdeen South</td>\n",
       "      <td>Scotland</td>\n",
       "      <td>Scotland</td>\n",
       "      <td>Burgh</td>\n",
       "      <td>Stephen</td>\n",
       "      <td>Flynn</td>\n",
       "      <td>Male</td>\n",
       "      <td>SNP hold</td>\n",
       "      <td>...</td>\n",
       "      <td>1609</td>\n",
       "      <td>15213</td>\n",
       "      <td>0</td>\n",
       "      <td>0</td>\n",
       "      <td>0</td>\n",
       "      <td>0</td>\n",
       "      <td>0</td>\n",
       "      <td>0</td>\n",
       "      <td>648</td>\n",
       "      <td>0</td>\n",
       "    </tr>\n",
       "  </tbody>\n",
       "</table>\n",
       "<p>5 rows × 30 columns</p>\n",
       "</div>"
      ],
      "text/plain": [
       "  House of Commons General Election 2024 results by constituency  \\\n",
       "0                                  [Note 1] [Note 2]               \n",
       "1                                             ONS ID               \n",
       "2                                          W07000081               \n",
       "3                                          S14000060               \n",
       "4                                          S14000061               \n",
       "\n",
       "      Unnamed: 1         Unnamed: 2   Unnamed: 3    Unnamed: 4  \\\n",
       "0            NaN                NaN          NaN           NaN   \n",
       "1  ONS region ID  Constituency name  Region name  Country name   \n",
       "2      W92000004   Aberafan Maesteg        Wales         Wales   \n",
       "3      S92000003     Aberdeen North     Scotland      Scotland   \n",
       "4      S92000003     Aberdeen South     Scotland      Scotland   \n",
       "\n",
       "          Unnamed: 5         Unnamed: 6      Unnamed: 7     Unnamed: 8  \\\n",
       "0                NaN                NaN             NaN            NaN   \n",
       "1  Constituency type  Member first name  Member surname  Member gender   \n",
       "2             County            Stephen         Kinnock           Male   \n",
       "3              Burgh             Kirsty        Blackman         Female   \n",
       "4              Burgh            Stephen           Flynn           Male   \n",
       "\n",
       "  Unnamed: 9  ... Unnamed: 20 Unnamed: 21 Unnamed: 22 Unnamed: 23 Unnamed: 24  \\\n",
       "0        NaN  ...         NaN         NaN         NaN         NaN         NaN   \n",
       "1     Result  ...       Green         SNP          PC         DUP          SF   \n",
       "2   Lab hold  ...        1094           0        4719           0           0   \n",
       "3   SNP hold  ...        1275       14533           0           0           0   \n",
       "4   SNP hold  ...        1609       15213           0           0           0   \n",
       "\n",
       "  Unnamed: 25 Unnamed: 26 Unnamed: 27           Unnamed: 28  \\\n",
       "0         NaN         NaN         NaN                   NaN   \n",
       "1        SDLP         UUP        APNI  All other candidates   \n",
       "2           0           0           0                   801   \n",
       "3           0           0           0                  1269   \n",
       "4           0           0           0                   648   \n",
       "\n",
       "             Unnamed: 29  \n",
       "0                    NaN  \n",
       "1  Of which other winner  \n",
       "2                      0  \n",
       "3                      0  \n",
       "4                      0  \n",
       "\n",
       "[5 rows x 30 columns]"
      ]
     },
     "execution_count": 3,
     "metadata": {},
     "output_type": "execute_result"
    }
   ],
   "source": [
    "data.head()"
   ]
  },
  {
   "cell_type": "markdown",
   "id": "54d32629-24b0-46ef-b7e3-95211c53b394",
   "metadata": {},
   "source": [
    "### Data Cleaning\n",
    "#### Adjust column names and drop unnecessary columns"
   ]
  },
  {
   "cell_type": "code",
   "execution_count": 4,
   "id": "fbdd8dcb-3e12-4836-99c5-300f7705750b",
   "metadata": {
    "tags": []
   },
   "outputs": [],
   "source": [
    "data.rename(columns = data.iloc[1], inplace=True)\n",
    "data.drop(['ONS ID', 'ONS region ID'],axis=1, inplace=True)\n",
    "data.drop([0, 1], inplace=True)\n",
    "data.drop(['Constituency type', 'Member first name', 'Member surname', 'Member gender', 'Invalid votes', \n",
    "           'DUP', 'SF', 'SDLP', 'UUP', 'APNI'], axis=1, inplace=True)"
   ]
  },
  {
   "cell_type": "markdown",
   "id": "9060e859-bf7d-4953-876c-71c4dde29985",
   "metadata": {},
   "source": [
    "#### Set all numerical data types to integer"
   ]
  },
  {
   "cell_type": "code",
   "execution_count": 6,
   "id": "2c55936f-4182-437f-9dbc-5abd6d36e1ab",
   "metadata": {
    "tags": []
   },
   "outputs": [],
   "source": [
    "data[['Electorate', 'Valid votes', 'Majority',\n",
    "       'Con', 'Lab', 'LD', 'RUK', 'Green', 'SNP', 'PC', 'All other candidates',\n",
    "       'Of which other winner']] = data[['Electorate', 'Valid votes', 'Majority',\n",
    "       'Con', 'Lab', 'LD', 'RUK', 'Green', 'SNP', 'PC', 'All other candidates',\n",
    "       'Of which other winner']].astype(int)\n",
    "CleanData = data.copy()"
   ]
  },
  {
   "cell_type": "markdown",
   "id": "1b9aa3b0-ea2c-42b2-96c9-119fe06490a4",
   "metadata": {},
   "source": [
    "#### Remove seats won by the Conservatives, Independents and those in Northern Ireland"
   ]
  },
  {
   "cell_type": "code",
   "execution_count": 7,
   "id": "5374cd8a-bb15-4c9f-850d-aa7575a3f866",
   "metadata": {
    "tags": []
   },
   "outputs": [],
   "source": [
    "indexTory = data[(data['First party'] == \"Con\")].index\n",
    "data.drop(indexTory, inplace=True)\n",
    "\n",
    "indexNI = data[(data['Country name']== 'Northern Ireland')].index\n",
    "data.drop(indexNI, inplace=True)\n",
    "\n",
    "indexInd = data[(data['First party'] == 'Ind')].index\n",
    "data.drop(indexInd, inplace=True)\n",
    "\n",
    "indexSpk = data[(data['First party'] == 'Spk')].index\n",
    "data.drop(indexSpk, inplace=True)"
   ]
  },
  {
   "cell_type": "markdown",
   "id": "ba406f51-f85b-4932-9699-b93d216f506c",
   "metadata": {},
   "source": [
    "### Data Manipulation\n",
    "#### Calculate the majority that the winning party has over the Conservatives in each seat"
   ]
  },
  {
   "cell_type": "code",
   "execution_count": 11,
   "id": "aafb36a2-e394-4dc4-9393-bb0a3e33a388",
   "metadata": {
    "tags": []
   },
   "outputs": [],
   "source": [
    "MajOverConList = []\n",
    "for i in range(0,505): #Rows left in DF\n",
    "    Winner = data.iloc[i]['First party']\n",
    "    WinnerVotes = data.iloc[i][Winner]\n",
    "    ConVotes = data.iloc[i]['Con']\n",
    "    MajOverCon = WinnerVotes - ConVotes\n",
    "    MajOverConList.append(MajOverCon)\n",
    "\n",
    "data.insert(8, \"Majority over Conservatives\", MajOverConList)"
   ]
  },
  {
   "cell_type": "markdown",
   "id": "ba039001-0d56-49e6-9dc3-422bbab365eb",
   "metadata": {},
   "source": [
    "#### Sort by the size of majority and create a new DataFrame called \"Targets\""
   ]
  },
  {
   "cell_type": "code",
   "execution_count": 1,
   "id": "c7b22622-7c3a-4c2d-95f4-f1cffd3db5af",
   "metadata": {
    "tags": []
   },
   "outputs": [
    {
     "ename": "NameError",
     "evalue": "name 'data' is not defined",
     "output_type": "error",
     "traceback": [
      "\u001b[0;31m---------------------------------------------------------------------------\u001b[0m",
      "\u001b[0;31mNameError\u001b[0m                                 Traceback (most recent call last)",
      "Cell \u001b[0;32mIn[1], line 1\u001b[0m\n\u001b[0;32m----> 1\u001b[0m data \u001b[38;5;241m=\u001b[39m data\u001b[38;5;241m.\u001b[39msort_values(\u001b[38;5;124m'\u001b[39m\u001b[38;5;124mMajority over Conservatives\u001b[39m\u001b[38;5;124m'\u001b[39m)\n\u001b[1;32m      3\u001b[0m Targets \u001b[38;5;241m=\u001b[39m data\u001b[38;5;241m.\u001b[39mcopy()\n\u001b[1;32m      5\u001b[0m Targets\n",
      "\u001b[0;31mNameError\u001b[0m: name 'data' is not defined"
     ]
    }
   ],
   "source": [
    "data = data.sort_values('Majority over Conservatives')\n",
    "\n",
    "Targets = data.copy()\n",
    "\n",
    "Targets"
   ]
  },
  {
   "cell_type": "markdown",
   "id": "4c4d7fab-9241-455f-85ef-68899a4f8314",
   "metadata": {},
   "source": [
    "#### Calculate the majority that the winning party has over the combined Conservative and Reform vote in each seat"
   ]
  },
  {
   "cell_type": "code",
   "execution_count": 16,
   "id": "dc02f36b-9d9e-419b-9116-7d65d682091c",
   "metadata": {
    "tags": []
   },
   "outputs": [],
   "source": [
    "MajOverConRefList = []\n",
    "for i in range(0,505): #Rows left in DF\n",
    "    RefVote = Targets.iloc[i]['RUK']\n",
    "    ConVote = Targets.iloc[i]['Con']\n",
    "    Winner = Targets.iloc[i]['First party']\n",
    "    WinnerVotes = Targets.iloc[i][Winner]\n",
    "    ConRefVotes = RefVote + ConVote\n",
    "    MajOverConRef = WinnerVotes - ConRefVotes\n",
    "    MajOverConRefList.append(MajOverConRef)\n",
    "    \n",
    "Targets.insert(9, \"Majority over Conservatives + Reform\", MajOverConRefList)"
   ]
  },
  {
   "cell_type": "markdown",
   "id": "b27f81ba-f335-423c-ac5f-66123c5d30e8",
   "metadata": {},
   "source": [
    "#### Calculate how many seats the combined Conservative and Reform vote would have won"
   ]
  },
  {
   "cell_type": "code",
   "execution_count": 17,
   "id": "dc46dd23-e6db-4f8b-a1fc-988a7b865e7f",
   "metadata": {
    "tags": []
   },
   "outputs": [
    {
     "data": {
      "text/plain": [
       "181"
      ]
     },
     "execution_count": 17,
     "metadata": {},
     "output_type": "execute_result"
    }
   ],
   "source": [
    "indexConRefWin = Targets[(Targets[\"Majority over Conservatives + Reform\"] < 0)].index\n",
    "len(indexConRefWin)"
   ]
  },
  {
   "cell_type": "markdown",
   "id": "f28603ee-b5b9-4fbe-9af3-69aa6b5fb710",
   "metadata": {},
   "source": [
    "#### This figure of 181 is not enough to win an overall majority when added to the current number of Conservative seats"
   ]
  },
  {
   "cell_type": "markdown",
   "id": "82ca85ae-30d0-4308-beb8-a2dbbc03b5b0",
   "metadata": {},
   "source": [
    "### Data Analysis"
   ]
  },
  {
   "cell_type": "markdown",
   "id": "4bf6ffbe-802d-4592-a7b2-96904fb091f0",
   "metadata": {},
   "source": [
    "#### Calculate the number of seats the Conservatives need for an overall majority"
   ]
  },
  {
   "cell_type": "code",
   "execution_count": null,
   "id": "85ad7118-0fa5-4f79-8965-ec20127811ff",
   "metadata": {},
   "outputs": [],
   "source": [
    "SeatsNeeded = 326 - len(indexTory)"
   ]
  },
  {
   "cell_type": "markdown",
   "id": "b6a8bfa2-4b3b-4686-8b52-ec553261b7a0",
   "metadata": {},
   "source": [
    "### Build Seat Calculator model\n",
    "#### This model uses the input of the percentage of Labour, Lib Dem and Reform votes that switch to th eConservatives in decimal form. It then adjusts the winning party's number of votes in accordance with this and calculates the new Conservative vote count. If the latter is greater than the former, AND greater than the votes of any other party, one seat is added to the \"SeatsWon\" variable. After performing this for each seat, it outputs the number of seats gained and whether this is enough for victory."
   ]
  },
  {
   "cell_type": "code",
   "execution_count": 28,
   "id": "20d3e305-7318-4118-abed-6d1fd2183d9e",
   "metadata": {
    "tags": []
   },
   "outputs": [
    {
     "name": "stdout",
     "output_type": "stream",
     "text": [
      "Consevatives Win, Seats Gained: 207\n"
     ]
    }
   ],
   "source": [
    "ConLabLDRefMixList = []\n",
    "LabMultiplier = 0.13\n",
    "LDMultiplier = 0.13\n",
    "RefMultiplier = 0.42\n",
    "\n",
    "SeatsWon = 0\n",
    "\n",
    "for i in range(0,505): #Rows left in DF\n",
    "    LabVote = Targets.iloc[i]['Lab']\n",
    "    LDVote = Targets.iloc[i]['LD']\n",
    "    RefVote = Targets.iloc[i]['RUK']\n",
    "    ConVote = Targets.iloc[i]['Con']\n",
    "    \n",
    "    Winner = Targets.iloc[i]['First party']\n",
    "    \n",
    "    if Winner == 'Lab':\n",
    "        WinnerVotes = (Targets.iloc[i][Winner])*(1-LabMultiplier)\n",
    "    elif Winner == 'LD':\n",
    "        WinnerVotes = (Targets.iloc[i][Winner])*(1-LDMultiplier)\n",
    "    elif Winner == 'RUK':\n",
    "        WinnerVotes = (Targets.iloc[i][Winner])*(1-RefMultiplier)\n",
    "    else:\n",
    "        WinnerVotes = (Targets.iloc[i][Winner])\n",
    "    \n",
    "    ConLabLDRefMix = LabVote*LabMultiplier + LDVote*LDMultiplier + RefVote*RefMultiplier + ConVote\n",
    "    \n",
    "    MajOverConLabLDRefMix = WinnerVotes - ConLabLDRefMix\n",
    "   \n",
    "    if MajOverConLabLDRefMix < 0 and ConLabLDRefMix > RefVote*(1-RefMultiplier) and ConLabLDRefMix > LDVote*(1-LDMultiplier) and ConLabLDRefMix > LabVote*(1-LabMultiplier):\n",
    "            SeatsWon = SeatsWon+1\n",
    "\n",
    "if SeatsWon > int(SeatsNeeded):\n",
    "    print(\"Consevatives Win, Seats Gained:\", SeatsWon)\n",
    "else:\n",
    "    print(\"Conservatives Lose, Seats Gained:\", SeatsWon)"
   ]
  },
  {
   "cell_type": "markdown",
   "id": "db942c84-a43e-42a4-a2b0-118a5c359ad0",
   "metadata": {},
   "source": [
    "### Build iterated Seat Model\n",
    "#### Operating in the same way as the one-off calculator above, this model iterates through a range of values. For Labour and the Lib Dems these are between 0% and 30% of their vote going to the Conservatives. For Reform, this is increments of 5% between 0% and 50%. The motivation for this is because the range of possibilities seems to be wider with the Reform vote. This creates an array for each possibility which is added to a list. For each of these results, a boolean test is then run to determine whether the seats won are greater or less than what is required for a majority."
   ]
  },
  {
   "cell_type": "code",
   "execution_count": 182,
   "id": "461ba036-b610-4379-90d9-c5ec00155695",
   "metadata": {
    "tags": []
   },
   "outputs": [],
   "source": [
    "import numpy as np\n",
    "\n",
    "SwingRanges = list(range(0,30))\n",
    "step = 0.01\n",
    "LabMultipliers = [round(i * step,2) for i in SwingRanges]\n",
    "LDMultipliers = [round(i * step,2) for i in SwingRanges]\n",
    "RefMultipliers = [0, 0.05, 0.1, 0.15, 0.2, 0.25, 0.3, 0.35, 0.4, 0.45, 0.5]\n",
    "\n",
    "FullResults = []\n",
    "\n",
    "for RefMultiplier in RefMultipliers:\n",
    "    \n",
    "    ResultsFloat = np.empty((len(LDMultipliers),len(LabMultipliers),))\n",
    "    ResultsFloat[:] = np.nan\n",
    "    \n",
    "    for k, LabMultiplier in enumerate(LabMultipliers):\n",
    "        \n",
    "        for j, LDMultiplier in enumerate(LDMultipliers):\n",
    "\n",
    "                SeatsWon = 0\n",
    "                \n",
    "                for i in range(0,505):\n",
    "                    LabVote = Targets.iloc[i]['Lab']\n",
    "                    LDVote = Targets.iloc[i]['LD']\n",
    "                    RefVote = Targets.iloc[i]['RUK']\n",
    "                    ConVote = Targets.iloc[i]['Con']\n",
    "\n",
    "                    Winner = Targets.iloc[i]['First party']\n",
    "\n",
    "                    if Winner == 'Lab':\n",
    "                        WinnerVotes = (Targets.iloc[i][Winner])*(1-LabMultiplier)\n",
    "                    elif Winner == 'LD':\n",
    "                        WinnerVotes = (Targets.iloc[i][Winner])*(1-LDMultiplier)\n",
    "                    elif Winner == 'RUK':\n",
    "                        WinnerVotes = (Targets.iloc[i][Winner])*(1-RefMultiplier)\n",
    "                    else:\n",
    "                        WinnerVotes = (Targets.iloc[i][Winner])\n",
    "\n",
    "                    ConLabLDRefMix = LabVote*LabMultiplier + LDVote*LDMultiplier + RefVote*RefMultiplier + ConVote\n",
    "\n",
    "                    MajOverConLabLDRefMix = WinnerVotes - ConLabLDRefMix\n",
    "\n",
    "                    if MajOverConLabLDRefMix < 0:\n",
    "                        SeatsWon = SeatsWon+1\n",
    "\n",
    "                ResultsFloat[j,k] = SeatsWon\n",
    "                \n",
    "    Results = ResultsFloat.astype(int)\n",
    "    FullResults.append(Results)\n",
    "    \n",
    "FullResultsBool = []\n",
    "\n",
    "for i, FullResult in enumerate(FullResults):\n",
    "    BoolResults = np.empty((len(LDMultipliers),len(LabMultipliers),))\n",
    "    for k in range(0, len(LabMultipliers)):\n",
    "        for j in range(0,len(LDMultipliers)):\n",
    "            BoolResults[j,k] = bool(FullResults[i][j,k]>SeatsNeeded)\n",
    "    FullResultsBool.append(BoolResults)"
   ]
  },
  {
   "cell_type": "markdown",
   "id": "7cfdcfef-5da9-4130-a694-da77dd36447d",
   "metadata": {},
   "source": [
    "### Visualisation\n",
    "#### FullResultsBool is indexed in accordance with the Reform vote. A colour map is created to show the combinations of proportion of the Labour and Lib Dem votes required when the Reform vote change to Conservatives is 0%. This is shown below."
   ]
  },
  {
   "cell_type": "code",
   "execution_count": 183,
   "id": "91e48c29-a18c-4928-a1da-a7ddc67e6ebd",
   "metadata": {
    "tags": []
   },
   "outputs": [
    {
     "data": {
      "image/png": "[encoded data removed]",
      "text/plain": [
       "<Figure size 640x480 with 1 Axes>"
      ]
     },
     "metadata": {},
     "output_type": "display_data"
    }
   ],
   "source": [
    "df = pd.DataFrame(FullResultsBool[0], columns = LabMultipliers, index = LDMultipliers)\n",
    "\n",
    "import matplotlib.pyplot as plt\n",
    "import matplotlib.patches as mpatches\n",
    "from matplotlib.colors import ListedColormap\n",
    "\n",
    "colors = [\"red\", \"blue\"]\n",
    "cmap = ListedColormap(colors)\n",
    "\n",
    "plt.imshow(df, cmap=cmap, extent =[0, 30, 0, 30], origin=\"lower\")\n",
    "\n",
    "red_patch = mpatches.Patch(color='red', label='Conservatives Lose')\n",
    "blue_patch = mpatches.Patch(color='blue', label='Conservatives Win')\n",
    "plt.legend(handles=[red_patch, blue_patch])\n",
    "\n",
    "plt.xlabel('Labour Swing')\n",
    "plt.ylabel('Lib Dem Swing')\n",
    "\n",
    "plt.show()"
   ]
  },
  {
   "cell_type": "markdown",
   "id": "40a0d631-6e39-4a4d-873d-9de04e6260c1",
   "metadata": {
    "tags": []
   },
   "source": [
    "### Interactive Visualisation\n",
    "#### Using a widget, interactive visualisation can be achieved whereby users can drag the widget for different shifts from Reform to the Conservatives and see how this impacts the necessary proportions from Labour and the Lib Dems."
   ]
  },
  {
   "cell_type": "code",
   "execution_count": 244,
   "id": "f707e110-e36c-4e0c-a52c-c376a0a06f22",
   "metadata": {
    "tags": []
   },
   "outputs": [],
   "source": [
    "import ipywidgets as widgets\n",
    "\n",
    "def swing_widget(ReformSwing=0):\n",
    "    df = pd.DataFrame(FullResultsBool[int(ReformSwing/5)], columns = LabMultipliers, index = LDMultipliers)\n",
    "\n",
    "    import matplotlib.pyplot as plt\n",
    "    from matplotlib.colors import ListedColormap\n",
    "\n",
    "    colors = [\"red\", \"blue\"]\n",
    "    cmap = ListedColormap(colors)\n",
    "\n",
    "    plt.imshow(df, cmap=cmap, extent =[0, 30, 0, 30], origin=\"lower\")\n",
    "\n",
    "    plt.xlabel('Labour Proportion')\n",
    "    plt.ylabel('Lib Dem Proportion')\n",
    "\n",
    "    red_patch = mpatches.Patch(color='red', label='Conservatives Lose')\n",
    "    blue_patch = mpatches.Patch(color='blue', label='Conservatives Win')\n",
    "    plt.legend(handles=[red_patch, blue_patch])\n",
    "\n",
    "    plt.show()"
   ]
  },
  {
   "cell_type": "code",
   "execution_count": 245,
   "id": "856f0055-25d1-472f-9f2d-2b647791eeef",
   "metadata": {
    "tags": []
   },
   "outputs": [
    {
     "data": {
      "application/vnd.jupyter.widget-view+json": {
       "model_id": "61f96ce0bf274b0bbdb7bbeb7b9b4498",
       "version_major": 2,
       "version_minor": 0
      },
      "text/plain": [
       "interactive(children=(IntSlider(value=0, description='ReformSwing', max=50, step=5), Output()), _dom_classes=(…"
      ]
     },
     "metadata": {},
     "output_type": "display_data"
    }
   ],
   "source": [
    "widgets.interact(swing_widget, ReformSwing=(0,50,5));"
   ]
  },
  {
   "cell_type": "markdown",
   "id": "995e45d4-2b64-4e71-930e-217d47927c42",
   "metadata": {},
   "source": [
    "### Adjusted Model\n",
    "#### Finally an adjusted model is made which calculates what happens if Reform gain a proportion of Conservative votes. Like above, this doesn't include the constituencies currently held by the Conservatives but could be easily adjusted to add these. The structure of the model is very similar to above but the Reform vote must be inflated and the original Conservative vote discounted."
   ]
  },
  {
   "cell_type": "code",
   "execution_count": 271,
   "id": "8a3ffff2-7728-419d-8cb2-136b0f7ab42a",
   "metadata": {
    "tags": []
   },
   "outputs": [
    {
     "name": "stdout",
     "output_type": "stream",
     "text": [
      "Consevatives Win, Seats Gained: 209\n"
     ]
    }
   ],
   "source": [
    "ConLabLDRefMixList = []\n",
    "LabMultiplier = 0.26\n",
    "LDMultiplier = 0.26\n",
    "RefMultiplier = -0.25 #Conservative vote lost to Reform\n",
    "\n",
    "SeatsWon = 0\n",
    "\n",
    "for i in range(0,505): #Rows left in DF\n",
    "    LabVote = Targets.iloc[i]['Lab']\n",
    "    LDVote = Targets.iloc[i]['LD']\n",
    "    RefVote = Targets.iloc[i]['RUK']\n",
    "    ConVote = Targets.iloc[i]['Con']\n",
    "    \n",
    "    RefVote = RefVote + ConVote*RefMultiplier\n",
    "    \n",
    "    Winner = Targets.iloc[i]['First party']\n",
    "    \n",
    "    if Winner == 'Lab':\n",
    "        WinnerVotes = (Targets.iloc[i][Winner])*(1-LabMultiplier)\n",
    "    elif Winner == 'LD':\n",
    "        WinnerVotes = (Targets.iloc[i][Winner])*(1-LDMultiplier)\n",
    "    elif Winner == 'RUK':\n",
    "        WinnerVotes = ((Targets.iloc[i][Winner])+ (ConVote*RefMultiplier))\n",
    "    else:\n",
    "        WinnerVotes = (Targets.iloc[i][Winner])\n",
    "        \n",
    "    \n",
    "    ConLabLDRefMix = LabVote*LabMultiplier + LDVote*LDMultiplier + ConVote*(1+RefMultiplier)\n",
    "    \n",
    "    \n",
    "    MajOverConLabLDRefMix = WinnerVotes - ConLabLDRefMix\n",
    "                       \n",
    "    if MajOverConLabLDRefMix < 0 and ConLabLDRefMix > RefVote and ConLabLDRefMix > LDVote*(1-LDMultiplier) and ConLabLDRefMix > LabVote*(1-LabMultiplier):\n",
    "        SeatsWon = SeatsWon+1\n",
    "\n",
    "if SeatsWon > int(SeatsNeeded):\n",
    "    print(\"Consevatives Win, Seats Gained:\", SeatsWon)\n",
    "else:\n",
    "    print(\"Conservatives Lose, Seats Gained:\", SeatsWon)"
   ]
  }
 ],
 "metadata": {
  "kernelspec": {
   "display_name": "Python 3 (ipykernel)",
   "language": "python",
   "name": "python3"
  },
  "language_info": {
   "codemirror_mode": {
    "name": "ipython",
    "version": 3
   },
   "file_extension": ".py",
   "mimetype": "text/x-python",
   "name": "python",
   "nbconvert_exporter": "python",
   "pygments_lexer": "ipython3",
   "version": "3.11.4"
  }
 },
 "nbformat": 4,
 "nbformat_minor": 5
}
